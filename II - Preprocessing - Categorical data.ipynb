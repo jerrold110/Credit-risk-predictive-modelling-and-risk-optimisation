{
 "cells": [
  {
   "cell_type": "raw",
   "id": "5ba104f1",
   "metadata": {},
   "source": [
    "Feature selection, Feature conversion, feature creation, feature engineering, one hot encoding"
   ]
  },
  {
   "cell_type": "code",
   "execution_count": 20,
   "id": "c91327fd",
   "metadata": {},
   "outputs": [],
   "source": [
    "import pandas as pd\n",
    "import numpy as np"
   ]
  },
  {
   "cell_type": "markdown",
   "id": "44a0bf31",
   "metadata": {},
   "source": [
    "## Categorical variables with the best chi2 scores "
   ]
  },
  {
   "cell_type": "code",
   "execution_count": 21,
   "id": "f80e9c5e",
   "metadata": {},
   "outputs": [],
   "source": [
    "from sklearn.feature_selection import chi2, SelectKBest"
   ]
  },
  {
   "cell_type": "code",
   "execution_count": 22,
   "id": "510ddaff",
   "metadata": {},
   "outputs": [],
   "source": [
    "data = pd.read_csv('credit.csv')\n",
    "x = data.iloc[:,:-1]\n",
    "y = data['class']\n",
    "\n",
    "string = ['credit_history', 'purpose', 'savings_status',\n",
    "       'employment', 'personal_status', 'other_parties', 'property_magnitude',\n",
    "       'other_payment_plans', 'housing', 'job', 'own_telephone',\n",
    "       'foreign_worker']"
   ]
  },
  {
   "cell_type": "code",
   "execution_count": 23,
   "id": "a5f7c0a7",
   "metadata": {},
   "outputs": [
    {
     "data": {
      "text/html": [
       "<div>\n",
       "<style scoped>\n",
       "    .dataframe tbody tr th:only-of-type {\n",
       "        vertical-align: middle;\n",
       "    }\n",
       "\n",
       "    .dataframe tbody tr th {\n",
       "        vertical-align: top;\n",
       "    }\n",
       "\n",
       "    .dataframe thead th {\n",
       "        text-align: right;\n",
       "    }\n",
       "</style>\n",
       "<table border=\"1\" class=\"dataframe\">\n",
       "  <thead>\n",
       "    <tr style=\"text-align: right;\">\n",
       "      <th></th>\n",
       "      <th>credit_history</th>\n",
       "      <th>purpose</th>\n",
       "      <th>savings_status</th>\n",
       "      <th>employment</th>\n",
       "      <th>personal_status</th>\n",
       "      <th>other_parties</th>\n",
       "      <th>property_magnitude</th>\n",
       "      <th>other_payment_plans</th>\n",
       "      <th>housing</th>\n",
       "      <th>job</th>\n",
       "      <th>own_telephone</th>\n",
       "      <th>foreign_worker</th>\n",
       "    </tr>\n",
       "  </thead>\n",
       "  <tbody>\n",
       "    <tr>\n",
       "      <th>0</th>\n",
       "      <td>0</td>\n",
       "      <td>0</td>\n",
       "      <td>0</td>\n",
       "      <td>0</td>\n",
       "      <td>0</td>\n",
       "      <td>0</td>\n",
       "      <td>0</td>\n",
       "      <td>0</td>\n",
       "      <td>0</td>\n",
       "      <td>0</td>\n",
       "      <td>0</td>\n",
       "      <td>0</td>\n",
       "    </tr>\n",
       "    <tr>\n",
       "      <th>1</th>\n",
       "      <td>1</td>\n",
       "      <td>0</td>\n",
       "      <td>1</td>\n",
       "      <td>1</td>\n",
       "      <td>1</td>\n",
       "      <td>0</td>\n",
       "      <td>0</td>\n",
       "      <td>0</td>\n",
       "      <td>0</td>\n",
       "      <td>0</td>\n",
       "      <td>1</td>\n",
       "      <td>0</td>\n",
       "    </tr>\n",
       "    <tr>\n",
       "      <th>2</th>\n",
       "      <td>0</td>\n",
       "      <td>1</td>\n",
       "      <td>1</td>\n",
       "      <td>2</td>\n",
       "      <td>0</td>\n",
       "      <td>0</td>\n",
       "      <td>0</td>\n",
       "      <td>0</td>\n",
       "      <td>0</td>\n",
       "      <td>1</td>\n",
       "      <td>1</td>\n",
       "      <td>0</td>\n",
       "    </tr>\n",
       "    <tr>\n",
       "      <th>3</th>\n",
       "      <td>1</td>\n",
       "      <td>2</td>\n",
       "      <td>1</td>\n",
       "      <td>2</td>\n",
       "      <td>0</td>\n",
       "      <td>1</td>\n",
       "      <td>1</td>\n",
       "      <td>0</td>\n",
       "      <td>1</td>\n",
       "      <td>0</td>\n",
       "      <td>1</td>\n",
       "      <td>0</td>\n",
       "    </tr>\n",
       "    <tr>\n",
       "      <th>4</th>\n",
       "      <td>2</td>\n",
       "      <td>3</td>\n",
       "      <td>1</td>\n",
       "      <td>1</td>\n",
       "      <td>0</td>\n",
       "      <td>0</td>\n",
       "      <td>2</td>\n",
       "      <td>0</td>\n",
       "      <td>1</td>\n",
       "      <td>0</td>\n",
       "      <td>1</td>\n",
       "      <td>0</td>\n",
       "    </tr>\n",
       "  </tbody>\n",
       "</table>\n",
       "</div>"
      ],
      "text/plain": [
       "   credit_history  purpose  savings_status  employment  personal_status  \\\n",
       "0               0        0               0           0                0   \n",
       "1               1        0               1           1                1   \n",
       "2               0        1               1           2                0   \n",
       "3               1        2               1           2                0   \n",
       "4               2        3               1           1                0   \n",
       "\n",
       "   other_parties  property_magnitude  other_payment_plans  housing  job  \\\n",
       "0              0                   0                    0        0    0   \n",
       "1              0                   0                    0        0    0   \n",
       "2              0                   0                    0        0    1   \n",
       "3              1                   1                    0        1    0   \n",
       "4              0                   2                    0        1    0   \n",
       "\n",
       "   own_telephone  foreign_worker  \n",
       "0              0               0  \n",
       "1              1               0  \n",
       "2              1               0  \n",
       "3              1               0  \n",
       "4              1               0  "
      ]
     },
     "execution_count": 23,
     "metadata": {},
     "output_type": "execute_result"
    }
   ],
   "source": [
    "# Categorize all the string features for chi2\n",
    "def myohc(df, var):\n",
    "    uniques = df[var].unique()\n",
    "    count = len(df[var].unique())\n",
    "    thismap ={}\n",
    "    for i in range(count):\n",
    "        thismap[uniques[i]] = i\n",
    "        \n",
    "    df.replace({var:thismap}, inplace=True)\n",
    "    \n",
    "for var in string:\n",
    "    myohc(x, var)\n",
    "\n",
    "x[string].head()"
   ]
  },
  {
   "cell_type": "code",
   "execution_count": 24,
   "id": "9fc15d44",
   "metadata": {},
   "outputs": [
    {
     "name": "stdout",
     "output_type": "stream",
     "text": [
      "these are the top 9 string features by chi2:\n",
      "['credit_history' 'purpose' 'employment' 'personal_status' 'other_parties'\n",
      " 'property_magnitude' 'other_payment_plans' 'housing' 'foreign_worker']\n"
     ]
    }
   ],
   "source": [
    "which = SelectKBest(chi2, k=9).fit(x[string], y).get_support()\n",
    "print('these are the top 9 string features by chi2:')\n",
    "feat = np.array(string)[which]\n",
    "print(feat)"
   ]
  },
  {
   "cell_type": "markdown",
   "id": "44492c1f",
   "metadata": {},
   "source": [
    "Three features (checking_Status, employment, property_magnitude) are being converted into numerical features. own_telephone will be dropped because it did not appear in the top 9 features.\n",
    "\n",
    "The categorical features which I HAVE to preprocess and use in my model are:\n",
    "* credit history (5 values)\n",
    "* purpose (11 values)\n",
    "* other payment plans (3 values)\n",
    "* housing (3 values)\n",
    "* foreign worker (2 values)\n",
    "* personal_status (4 values)\n",
    "\n",
    "The features with 2 or 3 values can be one hot encoded, but credit history and purpose have too many unique values to be one hot coded. They would cause the curse of dimensionality. I am barely comfortable one hot encoding just these 3 features becaues they amount to 2+3+3=8 features.\n",
    "\n",
    "To avoid the curse of dimensionality, I can encode the larger features with:\n",
    "\n",
    "* Frequency of value\n",
    "\n",
    "* Mean of target variable\n",
    "\n",
    "* Sum of target variable"
   ]
  },
  {
   "cell_type": "code",
   "execution_count": 25,
   "id": "0e55c0c5",
   "metadata": {
    "scrolled": true
   },
   "outputs": [
    {
     "name": "stdout",
     "output_type": "stream",
     "text": [
      "credit_history\n",
      "'existing paid'                     530\n",
      "'critical/other existing credit'    293\n",
      "'delayed previously'                 88\n",
      "'all paid'                           49\n",
      "'no credits/all paid'                40\n",
      "Name: credit_history, dtype: int64 \n",
      "\n",
      "personal_status\n",
      "'male single'           548\n",
      "'female div/dep/mar'    310\n",
      "'male mar/wid'           92\n",
      "'male div/sep'           50\n",
      "Name: personal_status, dtype: int64 \n",
      "\n",
      "purpose\n",
      "buy_radio_tv               280\n",
      "buy_new_car                234\n",
      "buy_furniture_equipment    181\n",
      "buy_used_car               103\n",
      "business                    97\n",
      "education                   50\n",
      "repairs                     22\n",
      "buy_domestic_appliance      12\n",
      "other                       12\n",
      "retraining                   9\n",
      "Name: purpose, dtype: int64 \n",
      "\n"
     ]
    }
   ],
   "source": [
    "for f in ['credit_history', 'personal_status', 'purpose']:\n",
    "    print(f)\n",
    "    print(data[f].value_counts(), '\\n')"
   ]
  },
  {
   "cell_type": "raw",
   "id": "ddd31f0e",
   "metadata": {},
   "source": [
    "Credit history, personal status, purpose have very differing bin sizes for each varible.\n",
    "\n",
    "credit_history - use mean\n",
    "personal_status - use mean\n",
    "purpose - I will tokenize the strings and create a column for each word that appears, then run chi2 test on each column and pick the best few ones.\n",
    "\n",
    "All other categorical columns will be discarded"
   ]
  },
  {
   "cell_type": "markdown",
   "id": "c3ff5cbc",
   "metadata": {},
   "source": [
    "## Dropping redundant variables"
   ]
  },
  {
   "cell_type": "code",
   "execution_count": 26,
   "id": "0e3335ff",
   "metadata": {},
   "outputs": [],
   "source": [
    "feat_keep = ['credit_history', 'purpose',\n",
    "       'personal_status','other_payment_plans', 'housing', 'foreign_worker']"
   ]
  },
  {
   "cell_type": "code",
   "execution_count": 27,
   "id": "1e6ec706",
   "metadata": {},
   "outputs": [],
   "source": [
    "credit = pd.read_csv('credit.csv')\n",
    "features_keep = list(feat_keep) + ['class']\n",
    "credit = credit[features_keep]"
   ]
  },
  {
   "cell_type": "code",
   "execution_count": 28,
   "id": "01b39142",
   "metadata": {},
   "outputs": [],
   "source": [
    "# Converting BAD to 1 GOOD to 0\n",
    "credit.replace({'class':{'good':0, 'bad':1}}, inplace=True)"
   ]
  },
  {
   "cell_type": "markdown",
   "id": "b89c9343",
   "metadata": {},
   "source": [
    "## One hot encoding"
   ]
  },
  {
   "cell_type": "code",
   "execution_count": 29,
   "id": "07d84c6d",
   "metadata": {},
   "outputs": [],
   "source": [
    "# Onehotncoding function that drops the original column\n",
    "\n",
    "def onehotencode(df, feat):\n",
    "    new_df = df.copy()\n",
    "    ohc = pd.get_dummies(df[feat], prefix=feat)\n",
    "    new_df.drop(columns=feat, inplace=True)\n",
    "    return pd.concat([new_df, ohc], axis=1)"
   ]
  },
  {
   "cell_type": "code",
   "execution_count": 30,
   "id": "925107b9",
   "metadata": {},
   "outputs": [
    {
     "data": {
      "text/plain": [
       "Index(['credit_history', 'purpose', 'personal_status', 'class',\n",
       "       'housing_'for free'', 'housing_own', 'housing_rent',\n",
       "       'other_payment_plans_bank', 'other_payment_plans_none',\n",
       "       'other_payment_plans_stores', 'foreign_worker_no',\n",
       "       'foreign_worker_yes'],\n",
       "      dtype='object')"
      ]
     },
     "execution_count": 30,
     "metadata": {},
     "output_type": "execute_result"
    }
   ],
   "source": [
    "ohc = ['housing','other_payment_plans','foreign_worker']\n",
    "\n",
    "for v in ohc:\n",
    "    credit = onehotencode(credit, v)\n",
    "    \n",
    "credit.columns"
   ]
  },
  {
   "cell_type": "markdown",
   "id": "06760d53",
   "metadata": {},
   "source": [
    "## Converting to means"
   ]
  },
  {
   "cell_type": "code",
   "execution_count": 31,
   "id": "edbe65af",
   "metadata": {},
   "outputs": [],
   "source": [
    "# mean encoding that drops the original column\n",
    "\n",
    "def meanencode(df, feat):\n",
    "    new_df = df.copy()\n",
    "    new_df[feat] = df[[feat, 'class']].groupby(feat).transform('mean')\n",
    "    \n",
    "    return new_df"
   ]
  },
  {
   "cell_type": "code",
   "execution_count": 32,
   "id": "ca4fec3f",
   "metadata": {},
   "outputs": [
    {
     "data": {
      "text/plain": [
       "Index(['credit_history', 'purpose', 'personal_status', 'class',\n",
       "       'housing_'for free'', 'housing_own', 'housing_rent',\n",
       "       'other_payment_plans_bank', 'other_payment_plans_none',\n",
       "       'other_payment_plans_stores', 'foreign_worker_no',\n",
       "       'foreign_worker_yes'],\n",
       "      dtype='object')"
      ]
     },
     "execution_count": 32,
     "metadata": {},
     "output_type": "execute_result"
    }
   ],
   "source": [
    "means = ['personal_status', 'credit_history']\n",
    "\n",
    "for v in means:\n",
    "    credit = meanencode(credit, v)\n",
    "    \n",
    "credit.columns"
   ]
  },
  {
   "cell_type": "markdown",
   "id": "b10baa57",
   "metadata": {},
   "source": [
    "## Purpose column"
   ]
  },
  {
   "cell_type": "code",
   "execution_count": 33,
   "id": "d3569069",
   "metadata": {},
   "outputs": [],
   "source": [
    "# Working with reason data\n",
    "from sklearn.feature_extraction.text import CountVectorizer"
   ]
  },
  {
   "cell_type": "code",
   "execution_count": 34,
   "id": "5186185c",
   "metadata": {
    "scrolled": true
   },
   "outputs": [
    {
     "data": {
      "text/plain": [
       "array(['buy_radio_tv', 'education', 'buy_furniture_equipment',\n",
       "       'buy_new_car', 'buy_used_car', 'business',\n",
       "       'buy_domestic_appliance', 'repairs', 'other', 'retraining'],\n",
       "      dtype=object)"
      ]
     },
     "execution_count": 34,
     "metadata": {},
     "output_type": "execute_result"
    }
   ],
   "source": [
    "credit['purpose'].unique()"
   ]
  },
  {
   "cell_type": "code",
   "execution_count": 35,
   "id": "c20b026d",
   "metadata": {},
   "outputs": [
    {
     "data": {
      "text/html": [
       "<div>\n",
       "<style scoped>\n",
       "    .dataframe tbody tr th:only-of-type {\n",
       "        vertical-align: middle;\n",
       "    }\n",
       "\n",
       "    .dataframe tbody tr th {\n",
       "        vertical-align: top;\n",
       "    }\n",
       "\n",
       "    .dataframe thead th {\n",
       "        text-align: right;\n",
       "    }\n",
       "</style>\n",
       "<table border=\"1\" class=\"dataframe\">\n",
       "  <thead>\n",
       "    <tr style=\"text-align: right;\">\n",
       "      <th></th>\n",
       "      <th>appliance</th>\n",
       "      <th>business</th>\n",
       "      <th>buy</th>\n",
       "      <th>car</th>\n",
       "      <th>domestic</th>\n",
       "      <th>education</th>\n",
       "      <th>equipment</th>\n",
       "      <th>furniture</th>\n",
       "      <th>new</th>\n",
       "      <th>other</th>\n",
       "      <th>radio</th>\n",
       "      <th>repairs</th>\n",
       "      <th>retraining</th>\n",
       "      <th>tv</th>\n",
       "      <th>used</th>\n",
       "    </tr>\n",
       "  </thead>\n",
       "  <tbody>\n",
       "    <tr>\n",
       "      <th>0</th>\n",
       "      <td>0</td>\n",
       "      <td>0</td>\n",
       "      <td>1</td>\n",
       "      <td>0</td>\n",
       "      <td>0</td>\n",
       "      <td>0</td>\n",
       "      <td>0</td>\n",
       "      <td>0</td>\n",
       "      <td>0</td>\n",
       "      <td>0</td>\n",
       "      <td>1</td>\n",
       "      <td>0</td>\n",
       "      <td>0</td>\n",
       "      <td>1</td>\n",
       "      <td>0</td>\n",
       "    </tr>\n",
       "    <tr>\n",
       "      <th>1</th>\n",
       "      <td>0</td>\n",
       "      <td>0</td>\n",
       "      <td>1</td>\n",
       "      <td>0</td>\n",
       "      <td>0</td>\n",
       "      <td>0</td>\n",
       "      <td>0</td>\n",
       "      <td>0</td>\n",
       "      <td>0</td>\n",
       "      <td>0</td>\n",
       "      <td>1</td>\n",
       "      <td>0</td>\n",
       "      <td>0</td>\n",
       "      <td>1</td>\n",
       "      <td>0</td>\n",
       "    </tr>\n",
       "    <tr>\n",
       "      <th>2</th>\n",
       "      <td>0</td>\n",
       "      <td>0</td>\n",
       "      <td>0</td>\n",
       "      <td>0</td>\n",
       "      <td>0</td>\n",
       "      <td>1</td>\n",
       "      <td>0</td>\n",
       "      <td>0</td>\n",
       "      <td>0</td>\n",
       "      <td>0</td>\n",
       "      <td>0</td>\n",
       "      <td>0</td>\n",
       "      <td>0</td>\n",
       "      <td>0</td>\n",
       "      <td>0</td>\n",
       "    </tr>\n",
       "    <tr>\n",
       "      <th>3</th>\n",
       "      <td>0</td>\n",
       "      <td>0</td>\n",
       "      <td>1</td>\n",
       "      <td>0</td>\n",
       "      <td>0</td>\n",
       "      <td>0</td>\n",
       "      <td>1</td>\n",
       "      <td>1</td>\n",
       "      <td>0</td>\n",
       "      <td>0</td>\n",
       "      <td>0</td>\n",
       "      <td>0</td>\n",
       "      <td>0</td>\n",
       "      <td>0</td>\n",
       "      <td>0</td>\n",
       "    </tr>\n",
       "    <tr>\n",
       "      <th>4</th>\n",
       "      <td>0</td>\n",
       "      <td>0</td>\n",
       "      <td>1</td>\n",
       "      <td>1</td>\n",
       "      <td>0</td>\n",
       "      <td>0</td>\n",
       "      <td>0</td>\n",
       "      <td>0</td>\n",
       "      <td>1</td>\n",
       "      <td>0</td>\n",
       "      <td>0</td>\n",
       "      <td>0</td>\n",
       "      <td>0</td>\n",
       "      <td>0</td>\n",
       "      <td>0</td>\n",
       "    </tr>\n",
       "  </tbody>\n",
       "</table>\n",
       "</div>"
      ],
      "text/plain": [
       "   appliance  business  buy  car  domestic  education  equipment  furniture  \\\n",
       "0          0         0    1    0         0          0          0          0   \n",
       "1          0         0    1    0         0          0          0          0   \n",
       "2          0         0    0    0         0          1          0          0   \n",
       "3          0         0    1    0         0          0          1          1   \n",
       "4          0         0    1    1         0          0          0          0   \n",
       "\n",
       "   new  other  radio  repairs  retraining  tv  used  \n",
       "0    0      0      1        0           0   1     0  \n",
       "1    0      0      1        0           0   1     0  \n",
       "2    0      0      0        0           0   0     0  \n",
       "3    0      0      0        0           0   0     0  \n",
       "4    1      0      0        0           0   0     0  "
      ]
     },
     "execution_count": 35,
     "metadata": {},
     "output_type": "execute_result"
    }
   ],
   "source": [
    "vec = CountVectorizer()\n",
    "\n",
    "l1 = lambda x: ' '.join(x.split('_'))\n",
    "credit['purpose'] = credit['purpose'].apply(l1)\n",
    "dummy_matrix = vec.fit_transform(credit['purpose']).toarray()\n",
    "\n",
    "text = pd.DataFrame(dummy_matrix, columns=vec.get_feature_names_out())\n",
    "text.head()"
   ]
  },
  {
   "cell_type": "code",
   "execution_count": 36,
   "id": "0a2042d5",
   "metadata": {},
   "outputs": [
    {
     "name": "stdout",
     "output_type": "stream",
     "text": [
      "these are the top 3 string features by chi2:\n",
      "['radio' 'tv' 'used']\n"
     ]
    }
   ],
   "source": [
    "# running chi2 tests\n",
    "x = text\n",
    "y = credit['class']\n",
    "\n",
    "which = SelectKBest(chi2, k=3).fit(x, y).get_support()\n",
    "print('these are the top 3 string features by chi2:')\n",
    "feat = np.array(x.columns)[which]\n",
    "print(feat)"
   ]
  },
  {
   "cell_type": "code",
   "execution_count": 37,
   "id": "ec0f1b4b",
   "metadata": {},
   "outputs": [
    {
     "data": {
      "text/plain": [
       "Index(['credit_history', 'personal_status', 'class', 'housing_'for free'',\n",
       "       'housing_own', 'housing_rent', 'other_payment_plans_bank',\n",
       "       'other_payment_plans_none', 'other_payment_plans_stores',\n",
       "       'foreign_worker_no', 'foreign_worker_yes', 'purpose_radio',\n",
       "       'purpose_tv', 'purpose_used'],\n",
       "      dtype='object')"
      ]
     },
     "execution_count": 37,
     "metadata": {},
     "output_type": "execute_result"
    }
   ],
   "source": [
    "credit.drop(columns='purpose', inplace=True)\n",
    "\n",
    "credit['purpose_radio'] = text['radio']\n",
    "credit['purpose_tv'] = text['tv']\n",
    "credit['purpose_used'] = text['used']\n",
    "credit.columns"
   ]
  },
  {
   "cell_type": "code",
   "execution_count": 38,
   "id": "73823db9",
   "metadata": {},
   "outputs": [],
   "source": [
    "credit.to_csv('data/data_categorical.csv', index=False)"
   ]
  }
 ],
 "metadata": {
  "kernelspec": {
   "display_name": "Python 3 (ipykernel)",
   "language": "python",
   "name": "python3"
  },
  "language_info": {
   "codemirror_mode": {
    "name": "ipython",
    "version": 3
   },
   "file_extension": ".py",
   "mimetype": "text/x-python",
   "name": "python",
   "nbconvert_exporter": "python",
   "pygments_lexer": "ipython3",
   "version": "3.9.13"
  }
 },
 "nbformat": 4,
 "nbformat_minor": 5
}
