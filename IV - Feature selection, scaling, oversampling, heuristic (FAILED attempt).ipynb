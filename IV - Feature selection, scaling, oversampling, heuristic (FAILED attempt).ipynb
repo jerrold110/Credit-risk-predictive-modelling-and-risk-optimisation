{
 "cells": [
  {
   "cell_type": "code",
   "execution_count": 21,
   "id": "44e5e735",
   "metadata": {},
   "outputs": [],
   "source": [
    "import pandas as pd\n",
    "import numpy as np"
   ]
  },
  {
   "cell_type": "markdown",
   "id": "64c1b99f",
   "metadata": {},
   "source": [
    "## Adding heuristics\n",
    "\n",
    "The heuristic was: \n",
    "\n",
    "21% of 180 clients who are credit_history 'critical/other existing credit' and savings_status: '<100' defaulted"
   ]
  },
  {
   "cell_type": "code",
   "execution_count": 22,
   "id": "004f157b",
   "metadata": {
    "scrolled": true
   },
   "outputs": [
    {
     "name": "stdout",
     "output_type": "stream",
     "text": [
      "180\n",
      "144\n"
     ]
    }
   ],
   "source": [
    "# read in new data, and create heuristic columns\n",
    "data = pd.read_csv('credit.csv')\n",
    "data['class'] = 0\n",
    "data.loc[((data.credit_history=='\\'critical/other existing credit\\'')\n",
    "          &(data.savings_status == '\\'<100\\'')), 'class'] = 1\n",
    "\n",
    "x_heuristic = data.iloc[:,:-1]\n",
    "y_heuristic = data.iloc[:,-1]\n",
    "print(y_heuristic.sum())\n",
    "\n",
    "from sklearn.model_selection import train_test_split\n",
    "\n",
    "_, _, y_train_aug, _ = train_test_split(x_heuristic, y_heuristic, test_size=0.2, random_state=1, stratify=y_heuristic)\n",
    "print(y_train_aug.sum())"
   ]
  },
  {
   "cell_type": "code",
   "execution_count": 23,
   "id": "d7bcff3a",
   "metadata": {},
   "outputs": [],
   "source": [
    "data_1 = pd.read_csv('data/data_numeric.csv')\n",
    "data_2 = pd.read_csv('data/data_categorical.csv')\n",
    "data_2 = data_2.drop(columns='class')"
   ]
  },
  {
   "cell_type": "code",
   "execution_count": 24,
   "id": "e624d40d",
   "metadata": {},
   "outputs": [
    {
     "data": {
      "text/plain": [
       "(1000, 27)"
      ]
     },
     "execution_count": 24,
     "metadata": {},
     "output_type": "execute_result"
    }
   ],
   "source": [
    "credit = data_1.merge(data_2, how='inner', left_index=True, right_index=True)\n",
    "credit.shape"
   ]
  },
  {
   "cell_type": "code",
   "execution_count": 25,
   "id": "d3b85188",
   "metadata": {},
   "outputs": [],
   "source": [
    "\n",
    "from sklearn.feature_selection import SelectKBest, f_classif, mutual_info_classif\n",
    "from sklearn.preprocessing import MinMaxScaler, StandardScaler\n",
    "import matplotlib.pyplot as plt"
   ]
  },
  {
   "cell_type": "code",
   "execution_count": 26,
   "id": "90d14e24",
   "metadata": {},
   "outputs": [],
   "source": [
    "from sklearn.metrics import accuracy_score, recall_score, roc_auc_score\n",
    "from sklearn.model_selection import GridSearchCV, RepeatedStratifiedKFold"
   ]
  },
  {
   "cell_type": "code",
   "execution_count": 27,
   "id": "ab22b065",
   "metadata": {},
   "outputs": [],
   "source": [
    "from sklearn.linear_model import LogisticRegression, SGDClassifier\n",
    "from sklearn.ensemble import GradientBoostingClassifier, RandomForestClassifier\n",
    "from sklearn.ensemble import AdaBoostClassifier"
   ]
  },
  {
   "cell_type": "code",
   "execution_count": 28,
   "id": "9d12d163",
   "metadata": {},
   "outputs": [],
   "source": [
    "from sklearn.pipeline import Pipeline"
   ]
  },
  {
   "cell_type": "raw",
   "id": "a369e77b",
   "metadata": {},
   "source": [
    "In Sklearn the class labels 0 and 1, are considered as Negative and Positive.\n",
    "There is greater cost to false positives since a default is 1. Recall measures What proportion of the positive class got correctly classified, so recall is a good metric"
   ]
  },
  {
   "cell_type": "markdown",
   "id": "1007ece8",
   "metadata": {},
   "source": [
    "## Scaling datasets and oversampling train datasets"
   ]
  },
  {
   "cell_type": "code",
   "execution_count": 29,
   "id": "d5e427d5",
   "metadata": {},
   "outputs": [],
   "source": [
    "from imblearn.over_sampling import RandomOverSampler"
   ]
  },
  {
   "cell_type": "code",
   "execution_count": 30,
   "id": "df42b91a",
   "metadata": {},
   "outputs": [],
   "source": [
    "y = credit['class']\n",
    "x = credit.drop(columns='class')\n",
    "\n",
    "x_train, x_test, y_train, y_test = train_test_split(x, y, test_size=0.2, random_state=1, stratify=y)"
   ]
  },
  {
   "cell_type": "code",
   "execution_count": 31,
   "id": "57a7143c",
   "metadata": {},
   "outputs": [
    {
     "name": "stdout",
     "output_type": "stream",
     "text": [
      "0    560\n",
      "1    280\n",
      "Name: class, dtype: int64\n"
     ]
    }
   ],
   "source": [
    "x_train_stand, x_test_stand = x_train.copy(), x_test.copy()\n",
    "\n",
    "# standardised x data\n",
    "# change train back to df\n",
    "stand = StandardScaler().fit(x_train)\n",
    "x_train_stand = stand.transform(x_train)\n",
    "x_test_stand = stand.transform(x_test)\n",
    "x_train_stand = pd.DataFrame(x_train_stand, columns=x_train.columns)\n",
    "\n",
    "# noralised x data\n",
    "# change train back to df\n",
    "norm = MinMaxScaler().fit(x_train)\n",
    "x_train_norm = norm.transform(x_train)\n",
    "x_test_norm = norm.transform(x_test)\n",
    "x_train_norm = pd.DataFrame(x_train_norm, columns=x_train.columns)\n",
    "\n",
    "# oversample the xtrain and ytrain dataset to increase the minority class by half\n",
    "oversample = RandomOverSampler(sampling_strategy=0.5, random_state=1)\n",
    "x_train_os, y_train_os = oversample.fit_resample(x_train, y_train)\n",
    "\n",
    "oversample = RandomOverSampler(sampling_strategy=0.5, random_state=1)\n",
    "x_train_stand_os, y_train_stand_os = oversample.fit_resample(x_train_stand, y_train)\n",
    "\n",
    "oversample = RandomOverSampler(sampling_strategy=0.5, random_state=1)\n",
    "x_train_norm_os, y_train_norm_os = oversample.fit_resample(x_train_norm, y_train)\n",
    "\n",
    "print(y_train_os.value_counts())"
   ]
  },
  {
   "cell_type": "code",
   "execution_count": 32,
   "id": "dad09946",
   "metadata": {},
   "outputs": [
    {
     "data": {
      "text/plain": [
       "840"
      ]
     },
     "execution_count": 32,
     "metadata": {},
     "output_type": "execute_result"
    }
   ],
   "source": [
    "# all oversampled y train data is the same...whatever\n",
    "sum(y_train_os == y_train_stand_os)"
   ]
  },
  {
   "cell_type": "code",
   "execution_count": 33,
   "id": "d9226d9b",
   "metadata": {},
   "outputs": [
    {
     "name": "stdout",
     "output_type": "stream",
     "text": [
      "(1640,)\n",
      "(1640, 26)\n",
      "(1640, 26)\n",
      "(1640, 26)\n"
     ]
    }
   ],
   "source": [
    "# adding y_train_aug to y_train_os and adding x_train to x_train_os\n",
    "# the first 840 samples are normal samples\n",
    "# the last 800 samples are heuristic samples\n",
    "\n",
    "y_train_os_aug = pd.concat([y_train_os, y_train_aug], axis=0)\n",
    "print(y_train_os_aug.shape)\n",
    "\n",
    "x_train_os_aug = pd.concat([x_train_os, x_train], axis=0)\n",
    "print(x_train_os_aug.shape)\n",
    "\n",
    "x_train_stand_os_aug = pd.concat([x_train_stand_os, x_train_stand], axis=0)\n",
    "print(x_train_stand_os_aug.shape)\n",
    "\n",
    "x_train_norm_os_aug = pd.concat([x_train_norm_os, x_train_norm], axis=0)\n",
    "print(x_train_norm_os_aug.shape)\n",
    "\n",
    "# packing it up\n",
    "Xtrain = [x_train_os_aug, x_train_stand_os_aug, x_train_norm_os_aug]\n",
    "Xtest = [x_test, x_test_stand, x_test_norm]"
   ]
  },
  {
   "cell_type": "code",
   "execution_count": 34,
   "id": "78bc15e9",
   "metadata": {},
   "outputs": [
    {
     "name": "stdout",
     "output_type": "stream",
     "text": [
      "1640\n"
     ]
    }
   ],
   "source": [
    "# weights for heuristic\n",
    "weights = [1]*840 + [0.1]*800\n",
    "print(len(weights))"
   ]
  },
  {
   "cell_type": "code",
   "execution_count": 35,
   "id": "40e37e4a",
   "metadata": {},
   "outputs": [],
   "source": [
    "metrics = [accuracy_score, recall_score, roc_auc_score]\n",
    "metric_names = ['accuracy', 'recall', 'roc_auc']\n",
    "scaling_names = ['Original','Normalized','Standardized']\n",
    "\n",
    "multilevelindex = []\n",
    "for i in metric_names:\n",
    "    for j in metric_names:\n",
    "        multilevelindex.append((i, j))\n",
    "        \n",
    "multilevelindex = pd.MultiIndex.from_tuples(multilevelindex, names=['CV metric', 'metric'])"
   ]
  },
  {
   "cell_type": "raw",
   "id": "8bb18389",
   "metadata": {},
   "source": [
    "We are going to create a function that does a cross validation gridsearch and  of:\n",
    "\n",
    "- Type of scaling\n",
    "- Scoring metric of gridsearch\n",
    "- Scoring metric of predictions"
   ]
  },
  {
   "cell_type": "code",
   "execution_count": 36,
   "id": "d89c1bee",
   "metadata": {
    "scrolled": true
   },
   "outputs": [
    {
     "name": "stderr",
     "output_type": "stream",
     "text": [
      "C:\\anaconda3\\lib\\site-packages\\sklearn\\linear_model\\_logistic.py:814: ConvergenceWarning: lbfgs failed to converge (status=1):\n",
      "STOP: TOTAL NO. of ITERATIONS REACHED LIMIT.\n",
      "\n",
      "Increase the number of iterations (max_iter) or scale the data as shown in:\n",
      "    https://scikit-learn.org/stable/modules/preprocessing.html\n",
      "Please also refer to the documentation for alternative solver options:\n",
      "    https://scikit-learn.org/stable/modules/linear_model.html#logistic-regression\n",
      "  n_iter_i = _check_optimize_result(\n"
     ]
    },
    {
     "name": "stdout",
     "output_type": "stream",
     "text": [
      "{'anova__k': 18}\n",
      "{'anova__k': 17}\n",
      "{'anova__k': 7}\n",
      "{'anova__k': 19}\n"
     ]
    },
    {
     "name": "stderr",
     "output_type": "stream",
     "text": [
      "C:\\anaconda3\\lib\\site-packages\\sklearn\\base.py:450: UserWarning: X does not have valid feature names, but SelectKBest was fitted with feature names\n",
      "  warnings.warn(\n"
     ]
    },
    {
     "name": "stdout",
     "output_type": "stream",
     "text": [
      "{'anova__k': 19}\n"
     ]
    },
    {
     "name": "stderr",
     "output_type": "stream",
     "text": [
      "C:\\anaconda3\\lib\\site-packages\\sklearn\\base.py:450: UserWarning: X does not have valid feature names, but SelectKBest was fitted with feature names\n",
      "  warnings.warn(\n"
     ]
    },
    {
     "name": "stdout",
     "output_type": "stream",
     "text": [
      "{'anova__k': 19}\n"
     ]
    },
    {
     "name": "stderr",
     "output_type": "stream",
     "text": [
      "C:\\anaconda3\\lib\\site-packages\\sklearn\\base.py:450: UserWarning: X does not have valid feature names, but SelectKBest was fitted with feature names\n",
      "  warnings.warn(\n"
     ]
    },
    {
     "name": "stdout",
     "output_type": "stream",
     "text": [
      "{'anova__k': 18}\n"
     ]
    },
    {
     "name": "stderr",
     "output_type": "stream",
     "text": [
      "C:\\anaconda3\\lib\\site-packages\\sklearn\\base.py:450: UserWarning: X does not have valid feature names, but SelectKBest was fitted with feature names\n",
      "  warnings.warn(\n"
     ]
    },
    {
     "name": "stdout",
     "output_type": "stream",
     "text": [
      "{'anova__k': 18}\n"
     ]
    },
    {
     "name": "stderr",
     "output_type": "stream",
     "text": [
      "C:\\anaconda3\\lib\\site-packages\\sklearn\\base.py:450: UserWarning: X does not have valid feature names, but SelectKBest was fitted with feature names\n",
      "  warnings.warn(\n"
     ]
    },
    {
     "name": "stdout",
     "output_type": "stream",
     "text": [
      "{'anova__k': 18}\n"
     ]
    },
    {
     "name": "stderr",
     "output_type": "stream",
     "text": [
      "C:\\anaconda3\\lib\\site-packages\\sklearn\\base.py:450: UserWarning: X does not have valid feature names, but SelectKBest was fitted with feature names\n",
      "  warnings.warn(\n"
     ]
    },
    {
     "data": {
      "text/html": [
       "<div>\n",
       "<style scoped>\n",
       "    .dataframe tbody tr th:only-of-type {\n",
       "        vertical-align: middle;\n",
       "    }\n",
       "\n",
       "    .dataframe tbody tr th {\n",
       "        vertical-align: top;\n",
       "    }\n",
       "\n",
       "    .dataframe thead th {\n",
       "        text-align: right;\n",
       "    }\n",
       "</style>\n",
       "<table border=\"1\" class=\"dataframe\">\n",
       "  <thead>\n",
       "    <tr style=\"text-align: right;\">\n",
       "      <th></th>\n",
       "      <th></th>\n",
       "      <th>Original</th>\n",
       "      <th>Normalized</th>\n",
       "      <th>Standardized</th>\n",
       "    </tr>\n",
       "    <tr>\n",
       "      <th>CV metric</th>\n",
       "      <th>metric</th>\n",
       "      <th></th>\n",
       "      <th></th>\n",
       "      <th></th>\n",
       "    </tr>\n",
       "  </thead>\n",
       "  <tbody>\n",
       "    <tr>\n",
       "      <th rowspan=\"3\" valign=\"top\">accuracy</th>\n",
       "      <th>accuracy</th>\n",
       "      <td>0.715000</td>\n",
       "      <td>0.740000</td>\n",
       "      <td>0.705000</td>\n",
       "    </tr>\n",
       "    <tr>\n",
       "      <th>recall</th>\n",
       "      <td>0.116667</td>\n",
       "      <td>0.200000</td>\n",
       "      <td>0.033333</td>\n",
       "    </tr>\n",
       "    <tr>\n",
       "      <th>roc_auc</th>\n",
       "      <td>0.544048</td>\n",
       "      <td>0.585714</td>\n",
       "      <td>0.513095</td>\n",
       "    </tr>\n",
       "    <tr>\n",
       "      <th rowspan=\"3\" valign=\"top\">recall</th>\n",
       "      <th>accuracy</th>\n",
       "      <td>0.710000</td>\n",
       "      <td>0.745000</td>\n",
       "      <td>0.730000</td>\n",
       "    </tr>\n",
       "    <tr>\n",
       "      <th>recall</th>\n",
       "      <td>0.050000</td>\n",
       "      <td>0.216667</td>\n",
       "      <td>0.166667</td>\n",
       "    </tr>\n",
       "    <tr>\n",
       "      <th>roc_auc</th>\n",
       "      <td>0.521429</td>\n",
       "      <td>0.594048</td>\n",
       "      <td>0.569048</td>\n",
       "    </tr>\n",
       "    <tr>\n",
       "      <th rowspan=\"3\" valign=\"top\">roc_auc</th>\n",
       "      <th>accuracy</th>\n",
       "      <td>0.700000</td>\n",
       "      <td>0.715000</td>\n",
       "      <td>0.730000</td>\n",
       "    </tr>\n",
       "    <tr>\n",
       "      <th>recall</th>\n",
       "      <td>0.000000</td>\n",
       "      <td>0.133333</td>\n",
       "      <td>0.183333</td>\n",
       "    </tr>\n",
       "    <tr>\n",
       "      <th>roc_auc</th>\n",
       "      <td>0.500000</td>\n",
       "      <td>0.548810</td>\n",
       "      <td>0.573810</td>\n",
       "    </tr>\n",
       "  </tbody>\n",
       "</table>\n",
       "</div>"
      ],
      "text/plain": [
       "                    Original  Normalized  Standardized\n",
       "CV metric metric                                      \n",
       "accuracy  accuracy  0.715000    0.740000      0.705000\n",
       "          recall    0.116667    0.200000      0.033333\n",
       "          roc_auc   0.544048    0.585714      0.513095\n",
       "recall    accuracy  0.710000    0.745000      0.730000\n",
       "          recall    0.050000    0.216667      0.166667\n",
       "          roc_auc   0.521429    0.594048      0.569048\n",
       "roc_auc   accuracy  0.700000    0.715000      0.730000\n",
       "          recall    0.000000    0.133333      0.183333\n",
       "          roc_auc   0.500000    0.548810      0.573810"
      ]
     },
     "execution_count": 36,
     "metadata": {},
     "output_type": "execute_result"
    }
   ],
   "source": [
    "scores_df = pd.DataFrame(index=multilevelindex)\n",
    "\n",
    "# loop over scaling\n",
    "for i in range(len(Xtrain)):\n",
    "    train = Xtrain[i]\n",
    "    test = Xtest[i]\n",
    "    results = []\n",
    "    # loop over cv scoring metric\n",
    "    for m in metrics:\n",
    "        # define cv evaluation method\n",
    "        fs = SelectKBest(score_func=mutual_info_classif)\n",
    "        classif = LogisticRegression(random_state=1, class_weight=weights)\n",
    "        cv = RepeatedStratifiedKFold(n_splits=10, n_repeats=3, random_state=1)\n",
    "\n",
    "        # define the pipeline to evaluate\n",
    "        pipeline = Pipeline(steps=[('anova', fs), ('lr', classif)])\n",
    "        \n",
    "        # define grid\n",
    "        grid = dict()\n",
    "        grid['anova__k'] = [i for i in range(1,20)] # this number cannot go higher\n",
    "\n",
    "        # define the grid search\n",
    "        search = GridSearchCV(estimator=pipeline, \n",
    "                              param_grid=[grid], \n",
    "                              scoring=metric_names[i], # you have to use the string or gridsearch will not work\n",
    "                              n_jobs=-1, \n",
    "                              cv=cv)\n",
    "        \n",
    "        search.fit(train, y_train_os_aug)\n",
    "        print(search.best_params_)\n",
    "        y_hat = search.best_estimator_.predict(test)\n",
    "        # loop over evaluation metric\n",
    "        for n in metrics:\n",
    "            score = n(y_test, y_hat)\n",
    "            results.append(score)\n",
    "    scores_df[scaling_names[i]] = pd.Series(results, index=multilevelindex)\n",
    "scores_df"
   ]
  },
  {
   "cell_type": "code",
   "execution_count": null,
   "id": "0e9e12f9",
   "metadata": {},
   "outputs": [],
   "source": []
  }
 ],
 "metadata": {
  "kernelspec": {
   "display_name": "Python 3 (ipykernel)",
   "language": "python",
   "name": "python3"
  },
  "language_info": {
   "codemirror_mode": {
    "name": "ipython",
    "version": 3
   },
   "file_extension": ".py",
   "mimetype": "text/x-python",
   "name": "python",
   "nbconvert_exporter": "python",
   "pygments_lexer": "ipython3",
   "version": "3.9.13"
  }
 },
 "nbformat": 4,
 "nbformat_minor": 5
}
