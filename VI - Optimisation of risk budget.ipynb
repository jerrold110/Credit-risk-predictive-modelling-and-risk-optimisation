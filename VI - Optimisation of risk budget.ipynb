{
 "cells": [
  {
   "cell_type": "markdown",
   "id": "391de909",
   "metadata": {},
   "source": [
    "# Optimisation of risk budget\n",
    "\n",
    "The value of risk to the bank is -> risk = credit_amount * POD \n",
    "\n",
    "We will treat the test dataset as our hypothetical **\"prospective clients\"** and calculate the interest charges and risk for each client. \n",
    "\n",
    "Then I will double this dataset, assume this is the prospective loan clientbase, and run the optimisation on these clients."
   ]
  },
  {
   "cell_type": "code",
   "execution_count": 1,
   "id": "7d77add2",
   "metadata": {},
   "outputs": [],
   "source": [
    "import pandas as pd\n",
    "import numpy as np\n",
    "import seaborn as sns; sns.set()\n",
    "import matplotlib.pyplot as plt"
   ]
  },
  {
   "cell_type": "code",
   "execution_count": 2,
   "id": "45e4a9fb",
   "metadata": {},
   "outputs": [],
   "source": [
    "pd.set_option('display.float_format', lambda x: '%.4f' % x)"
   ]
  },
  {
   "cell_type": "code",
   "execution_count": 3,
   "id": "d0470272",
   "metadata": {},
   "outputs": [
    {
     "data": {
      "text/html": [
       "<div>\n",
       "<style scoped>\n",
       "    .dataframe tbody tr th:only-of-type {\n",
       "        vertical-align: middle;\n",
       "    }\n",
       "\n",
       "    .dataframe tbody tr th {\n",
       "        vertical-align: top;\n",
       "    }\n",
       "\n",
       "    .dataframe thead th {\n",
       "        text-align: right;\n",
       "    }\n",
       "</style>\n",
       "<table border=\"1\" class=\"dataframe\">\n",
       "  <thead>\n",
       "    <tr style=\"text-align: right;\">\n",
       "      <th></th>\n",
       "      <th>duration</th>\n",
       "      <th>credit_amount</th>\n",
       "      <th>POD</th>\n",
       "    </tr>\n",
       "  </thead>\n",
       "  <tbody>\n",
       "    <tr>\n",
       "      <th>0</th>\n",
       "      <td>4</td>\n",
       "      <td>3380</td>\n",
       "      <td>0.0567</td>\n",
       "    </tr>\n",
       "    <tr>\n",
       "      <th>1</th>\n",
       "      <td>48</td>\n",
       "      <td>18424</td>\n",
       "      <td>0.9575</td>\n",
       "    </tr>\n",
       "    <tr>\n",
       "      <th>2</th>\n",
       "      <td>12</td>\n",
       "      <td>3017</td>\n",
       "      <td>0.6109</td>\n",
       "    </tr>\n",
       "    <tr>\n",
       "      <th>3</th>\n",
       "      <td>12</td>\n",
       "      <td>3386</td>\n",
       "      <td>0.1163</td>\n",
       "    </tr>\n",
       "    <tr>\n",
       "      <th>4</th>\n",
       "      <td>24</td>\n",
       "      <td>1559</td>\n",
       "      <td>0.4097</td>\n",
       "    </tr>\n",
       "    <tr>\n",
       "      <th>...</th>\n",
       "      <td>...</td>\n",
       "      <td>...</td>\n",
       "      <td>...</td>\n",
       "    </tr>\n",
       "    <tr>\n",
       "      <th>295</th>\n",
       "      <td>24</td>\n",
       "      <td>1216</td>\n",
       "      <td>0.6659</td>\n",
       "    </tr>\n",
       "    <tr>\n",
       "      <th>296</th>\n",
       "      <td>18</td>\n",
       "      <td>1817</td>\n",
       "      <td>0.3256</td>\n",
       "    </tr>\n",
       "    <tr>\n",
       "      <th>297</th>\n",
       "      <td>24</td>\n",
       "      <td>2463</td>\n",
       "      <td>0.1714</td>\n",
       "    </tr>\n",
       "    <tr>\n",
       "      <th>298</th>\n",
       "      <td>18</td>\n",
       "      <td>8471</td>\n",
       "      <td>0.7434</td>\n",
       "    </tr>\n",
       "    <tr>\n",
       "      <th>299</th>\n",
       "      <td>12</td>\n",
       "      <td>1413</td>\n",
       "      <td>0.0026</td>\n",
       "    </tr>\n",
       "  </tbody>\n",
       "</table>\n",
       "<p>300 rows × 3 columns</p>\n",
       "</div>"
      ],
      "text/plain": [
       "     duration  credit_amount    POD\n",
       "0           4           3380 0.0567\n",
       "1          48          18424 0.9575\n",
       "2          12           3017 0.6109\n",
       "3          12           3386 0.1163\n",
       "4          24           1559 0.4097\n",
       "..        ...            ...    ...\n",
       "295        24           1216 0.6659\n",
       "296        18           1817 0.3256\n",
       "297        24           2463 0.1714\n",
       "298        18           8471 0.7434\n",
       "299        12           1413 0.0026\n",
       "\n",
       "[300 rows x 3 columns]"
      ]
     },
     "execution_count": 3,
     "metadata": {},
     "output_type": "execute_result"
    }
   ],
   "source": [
    "data = pd.read_csv('data/data_with_pod.csv')[['duration','credit_amount','POD']]\n",
    "data"
   ]
  },
  {
   "cell_type": "code",
   "execution_count": 4,
   "id": "26f2cd82",
   "metadata": {},
   "outputs": [
    {
     "data": {
      "text/html": [
       "<div>\n",
       "<style scoped>\n",
       "    .dataframe tbody tr th:only-of-type {\n",
       "        vertical-align: middle;\n",
       "    }\n",
       "\n",
       "    .dataframe tbody tr th {\n",
       "        vertical-align: top;\n",
       "    }\n",
       "\n",
       "    .dataframe thead th {\n",
       "        text-align: right;\n",
       "    }\n",
       "</style>\n",
       "<table border=\"1\" class=\"dataframe\">\n",
       "  <thead>\n",
       "    <tr style=\"text-align: right;\">\n",
       "      <th></th>\n",
       "      <th>duration</th>\n",
       "      <th>credit_amount</th>\n",
       "      <th>POD</th>\n",
       "      <th>Risk</th>\n",
       "      <th>Interest Rate</th>\n",
       "      <th>Interest Amount</th>\n",
       "    </tr>\n",
       "  </thead>\n",
       "  <tbody>\n",
       "    <tr>\n",
       "      <th>0</th>\n",
       "      <td>4</td>\n",
       "      <td>3380</td>\n",
       "      <td>0.0567</td>\n",
       "      <td>45.6605</td>\n",
       "      <td>0.0200</td>\n",
       "      <td>67.6000</td>\n",
       "    </tr>\n",
       "    <tr>\n",
       "      <th>1</th>\n",
       "      <td>48</td>\n",
       "      <td>18424</td>\n",
       "      <td>0.9575</td>\n",
       "      <td>17263.0663</td>\n",
       "      <td>76.8181</td>\n",
       "      <td>1415296.7423</td>\n",
       "    </tr>\n",
       "    <tr>\n",
       "      <th>2</th>\n",
       "      <td>12</td>\n",
       "      <td>3017</td>\n",
       "      <td>0.6109</td>\n",
       "      <td>1440.6371</td>\n",
       "      <td>13.8863</td>\n",
       "      <td>41895.0261</td>\n",
       "    </tr>\n",
       "    <tr>\n",
       "      <th>3</th>\n",
       "      <td>12</td>\n",
       "      <td>3386</td>\n",
       "      <td>0.1163</td>\n",
       "      <td>134.3710</td>\n",
       "      <td>2.1052</td>\n",
       "      <td>7128.0534</td>\n",
       "    </tr>\n",
       "    <tr>\n",
       "      <th>4</th>\n",
       "      <td>24</td>\n",
       "      <td>1559</td>\n",
       "      <td>0.4097</td>\n",
       "      <td>408.8235</td>\n",
       "      <td>6.7243</td>\n",
       "      <td>10483.1400</td>\n",
       "    </tr>\n",
       "  </tbody>\n",
       "</table>\n",
       "</div>"
      ],
      "text/plain": [
       "   duration  credit_amount    POD       Risk  Interest Rate  Interest Amount\n",
       "0         4           3380 0.0567    45.6605         0.0200          67.6000\n",
       "1        48          18424 0.9575 17263.0663        76.8181     1415296.7423\n",
       "2        12           3017 0.6109  1440.6371        13.8863       41895.0261\n",
       "3        12           3386 0.1163   134.3710         2.1052        7128.0534\n",
       "4        24           1559 0.4097   408.8235         6.7243       10483.1400"
      ]
     },
     "execution_count": 4,
     "metadata": {},
     "output_type": "execute_result"
    }
   ],
   "source": [
    "# Calculate the risk factor for every client\n",
    "data['Risk'] = data['credit_amount']*np.power(data['POD'], 1.5)\n",
    "\n",
    "# Calcualte the interest rate charges\n",
    "def interest_rate(row):\n",
    "    time_interest = 0.02\n",
    "    duration = row['duration']\n",
    "    if duration>10:\n",
    "        time_interest += np.ceil((duration-10)/10)\n",
    "    \n",
    "    pod_interest = 0\n",
    "    pod = row['POD']\n",
    "    if pod>0.1:\n",
    "        pod_interest += np.exp((pod-0.1)*5)\n",
    "        \n",
    "    return time_interest + pod_interest\n",
    "\n",
    "data['Interest Rate'] = data.apply(interest_rate, axis=1)\n",
    "\n",
    "# The interest amount\n",
    "data['Interest Amount'] = data['Interest Rate']*data['credit_amount']\n",
    "\n",
    "data.head()"
   ]
  },
  {
   "cell_type": "code",
   "execution_count": 5,
   "id": "68ee38e9",
   "metadata": {},
   "outputs": [
    {
     "data": {
      "image/png": "[encoded data removed]",
      "text/plain": [
       "<Figure size 800x500 with 1 Axes>"
      ]
     },
     "metadata": {},
     "output_type": "display_data"
    }
   ],
   "source": [
    "plt.figure(figsize=(8,5))\n",
    "sns.histplot(data=data, x=\"POD\", bins=50)\n",
    "plt.show()"
   ]
  },
  {
   "cell_type": "code",
   "execution_count": 6,
   "id": "f39f33d3",
   "metadata": {},
   "outputs": [
    {
     "data": {
      "image/png": "[encoded data removed]",
      "text/plain": [
       "<Figure size 800x500 with 1 Axes>"
      ]
     },
     "metadata": {},
     "output_type": "display_data"
    }
   ],
   "source": [
    "plt.figure(figsize=(8,5))\n",
    "sns.histplot(data=data, x=\"Risk\", bins=50)\n",
    "plt.show()"
   ]
  },
  {
   "cell_type": "markdown",
   "id": "f5c9c6a4",
   "metadata": {},
   "source": [
    "# Maximum POD threshold\n",
    "In the notebook we found that the most accurate cutoff probability threshold for default is 0.416, meaning that clients with a POD of over 0.416 can be assumed to default on their loan. \n",
    "\n",
    "For a little bit of additional risk and reward I will raise the maximum POD tolerance to 0.466 which is 5% more than 0.466."
   ]
  },
  {
   "cell_type": "code",
   "execution_count": 7,
   "id": "3cd4cfd2",
   "metadata": {},
   "outputs": [
    {
     "data": {
      "text/html": [
       "<div>\n",
       "<style scoped>\n",
       "    .dataframe tbody tr th:only-of-type {\n",
       "        vertical-align: middle;\n",
       "    }\n",
       "\n",
       "    .dataframe tbody tr th {\n",
       "        vertical-align: top;\n",
       "    }\n",
       "\n",
       "    .dataframe thead th {\n",
       "        text-align: right;\n",
       "    }\n",
       "</style>\n",
       "<table border=\"1\" class=\"dataframe\">\n",
       "  <thead>\n",
       "    <tr style=\"text-align: right;\">\n",
       "      <th></th>\n",
       "      <th>duration</th>\n",
       "      <th>credit_amount</th>\n",
       "      <th>POD</th>\n",
       "      <th>Risk</th>\n",
       "      <th>Interest Rate</th>\n",
       "      <th>Interest Amount</th>\n",
       "    </tr>\n",
       "  </thead>\n",
       "  <tbody>\n",
       "    <tr>\n",
       "      <th>0</th>\n",
       "      <td>4</td>\n",
       "      <td>3380</td>\n",
       "      <td>0.0567</td>\n",
       "      <td>45.6605</td>\n",
       "      <td>0.0200</td>\n",
       "      <td>67.6000</td>\n",
       "    </tr>\n",
       "    <tr>\n",
       "      <th>3</th>\n",
       "      <td>12</td>\n",
       "      <td>3386</td>\n",
       "      <td>0.1163</td>\n",
       "      <td>134.3710</td>\n",
       "      <td>2.1052</td>\n",
       "      <td>7128.0534</td>\n",
       "    </tr>\n",
       "    <tr>\n",
       "      <th>4</th>\n",
       "      <td>24</td>\n",
       "      <td>1559</td>\n",
       "      <td>0.4097</td>\n",
       "      <td>408.8235</td>\n",
       "      <td>6.7243</td>\n",
       "      <td>10483.1400</td>\n",
       "    </tr>\n",
       "    <tr>\n",
       "      <th>6</th>\n",
       "      <td>36</td>\n",
       "      <td>8229</td>\n",
       "      <td>0.4460</td>\n",
       "      <td>2450.6962</td>\n",
       "      <td>8.6595</td>\n",
       "      <td>71259.0078</td>\n",
       "    </tr>\n",
       "    <tr>\n",
       "      <th>7</th>\n",
       "      <td>6</td>\n",
       "      <td>2080</td>\n",
       "      <td>0.0278</td>\n",
       "      <td>9.6226</td>\n",
       "      <td>0.0200</td>\n",
       "      <td>41.6000</td>\n",
       "    </tr>\n",
       "    <tr>\n",
       "      <th>...</th>\n",
       "      <td>...</td>\n",
       "      <td>...</td>\n",
       "      <td>...</td>\n",
       "      <td>...</td>\n",
       "      <td>...</td>\n",
       "      <td>...</td>\n",
       "    </tr>\n",
       "    <tr>\n",
       "      <th>291</th>\n",
       "      <td>6</td>\n",
       "      <td>3518</td>\n",
       "      <td>0.1538</td>\n",
       "      <td>212.2018</td>\n",
       "      <td>1.3287</td>\n",
       "      <td>4674.3108</td>\n",
       "    </tr>\n",
       "    <tr>\n",
       "      <th>293</th>\n",
       "      <td>12</td>\n",
       "      <td>639</td>\n",
       "      <td>0.4167</td>\n",
       "      <td>171.9102</td>\n",
       "      <td>5.8930</td>\n",
       "      <td>3765.6254</td>\n",
       "    </tr>\n",
       "    <tr>\n",
       "      <th>296</th>\n",
       "      <td>18</td>\n",
       "      <td>1817</td>\n",
       "      <td>0.3256</td>\n",
       "      <td>337.6081</td>\n",
       "      <td>4.1097</td>\n",
       "      <td>7467.3487</td>\n",
       "    </tr>\n",
       "    <tr>\n",
       "      <th>297</th>\n",
       "      <td>24</td>\n",
       "      <td>2463</td>\n",
       "      <td>0.1714</td>\n",
       "      <td>174.7858</td>\n",
       "      <td>3.4491</td>\n",
       "      <td>8495.0933</td>\n",
       "    </tr>\n",
       "    <tr>\n",
       "      <th>299</th>\n",
       "      <td>12</td>\n",
       "      <td>1413</td>\n",
       "      <td>0.0026</td>\n",
       "      <td>0.1867</td>\n",
       "      <td>1.0200</td>\n",
       "      <td>1441.2600</td>\n",
       "    </tr>\n",
       "  </tbody>\n",
       "</table>\n",
       "<p>370 rows × 6 columns</p>\n",
       "</div>"
      ],
      "text/plain": [
       "     duration  credit_amount    POD      Risk  Interest Rate  Interest Amount\n",
       "0           4           3380 0.0567   45.6605         0.0200          67.6000\n",
       "3          12           3386 0.1163  134.3710         2.1052        7128.0534\n",
       "4          24           1559 0.4097  408.8235         6.7243       10483.1400\n",
       "6          36           8229 0.4460 2450.6962         8.6595       71259.0078\n",
       "7           6           2080 0.0278    9.6226         0.0200          41.6000\n",
       "..        ...            ...    ...       ...            ...              ...\n",
       "291         6           3518 0.1538  212.2018         1.3287        4674.3108\n",
       "293        12            639 0.4167  171.9102         5.8930        3765.6254\n",
       "296        18           1817 0.3256  337.6081         4.1097        7467.3487\n",
       "297        24           2463 0.1714  174.7858         3.4491        8495.0933\n",
       "299        12           1413 0.0026    0.1867         1.0200        1441.2600\n",
       "\n",
       "[370 rows x 6 columns]"
      ]
     },
     "execution_count": 7,
     "metadata": {},
     "output_type": "execute_result"
    }
   ],
   "source": [
    "new_client = data[data['POD']<=0.466]\n",
    "new_client = pd.concat([new_client, new_client])\n",
    "new_client"
   ]
  },
  {
   "cell_type": "markdown",
   "id": "d3923098",
   "metadata": {},
   "source": [
    "# Integer optimisation\n",
    "\n",
    "Each of 370 clients can be offered the loan or not offered the loan. Maximise the intrest earned for a risk range of 50,000 - 60,000\n",
    "\n",
    "x will be the vector of decision variables, where 1 indicates a loan was offered and 0 the loan was rejected."
   ]
  },
  {
   "cell_type": "code",
   "execution_count": 8,
   "id": "c9add0c0",
   "metadata": {},
   "outputs": [
    {
     "name": "stdout",
     "output_type": "stream",
     "text": [
      "105258.60016728226\n",
      "3464561.2323126453\n"
     ]
    }
   ],
   "source": [
    "print(new_client['Risk'].sum())\n",
    "print(new_client['Interest Amount'].sum())"
   ]
  },
  {
   "cell_type": "code",
   "execution_count": 9,
   "id": "6acb140d",
   "metadata": {},
   "outputs": [],
   "source": [
    "from scipy.optimize import LinearConstraint\n",
    "from scipy.optimize import milp"
   ]
  },
  {
   "cell_type": "raw",
   "id": "8fce2c00",
   "metadata": {},
   "source": [
    "minimize:\n",
    "c @ x\n",
    "\n",
    "such that:\n",
    "b_l <= A @ x <= b_u\n",
    "l <= x <= u\n",
    "Specified elements of x must be integers\n",
    "\n",
    "\n",
    "minimize:\n",
    "interest\n",
    "\n",
    "such that:\n",
    "risk level is 50,000 - 60,000\n",
    "each decision variable in vector x is 0 or 1"
   ]
  },
  {
   "cell_type": "code",
   "execution_count": 10,
   "id": "21836572",
   "metadata": {},
   "outputs": [],
   "source": [
    "ia = np.array(new_client['Interest Amount'])\n",
    "r = np.array(new_client['Risk'])"
   ]
  },
  {
   "cell_type": "code",
   "execution_count": 11,
   "id": "a5159271",
   "metadata": {},
   "outputs": [],
   "source": [
    "# minimize interest amount\n",
    "# c@x\n",
    "c = -ia\n",
    "\n",
    "# such that:\n",
    "# x is a vector of 1 and 0 for each client\n",
    "# b_l <= A @ x <= b_u\n",
    "A = np.identity(c.shape[0])\n",
    "b_l = np.zeros_like(c)\n",
    "b_u = np.ones_like(c)\n",
    "constraint_1 = LinearConstraint(A=A, lb=b_l, ub=b_u)\n",
    "\n",
    "# risk is between 50,000 and 60,000\n",
    "# b_l <= A @ x <= b_u\n",
    "constraint_2 = LinearConstraint(A=r, lb=50000, ub=60000)"
   ]
  },
  {
   "cell_type": "code",
   "execution_count": 12,
   "id": "0a222e58",
   "metadata": {},
   "outputs": [],
   "source": [
    "integrality = np.ones_like(c)"
   ]
  },
  {
   "cell_type": "code",
   "execution_count": 13,
   "id": "2ab0dffb",
   "metadata": {},
   "outputs": [
    {
     "name": "stdout",
     "output_type": "stream",
     "text": [
      "Optimization terminated successfully. (HiGHS Status 7: Optimal)\n",
      "0\n",
      "Total profit from interest: 2470175.8540\n",
      "Total risk: 59999.0241\n",
      "No. clients who were approved: 213.0\n"
     ]
    }
   ],
   "source": [
    "res = milp(c=c, constraints=[constraint_1, constraint_2], integrality=integrality)\n",
    "x = res.x\n",
    "print(res.message)\n",
    "print(res.status)\n",
    "print(f'Total profit from interest: {-c@x:.4f}')\n",
    "print(f'Total risk: {r@x:.4f}')\n",
    "print(f'No. clients who were approved: {sum(x)}')"
   ]
  },
  {
   "cell_type": "markdown",
   "id": "268aee97",
   "metadata": {},
   "source": [
    "## Colllect the data and visualise the clients whose credit applications were approved"
   ]
  },
  {
   "cell_type": "code",
   "execution_count": 14,
   "id": "f7976e8b",
   "metadata": {},
   "outputs": [],
   "source": [
    "new_client = new_client.assign(credit_approved=x)\n",
    "approved_client = new_client[new_client.credit_approved==1].reset_index()"
   ]
  },
  {
   "cell_type": "code",
   "execution_count": 15,
   "id": "efd562d3",
   "metadata": {},
   "outputs": [
    {
     "data": {
      "image/png": "[encoded data removed]",
      "text/plain": [
       "<Figure size 800x400 with 1 Axes>"
      ]
     },
     "metadata": {},
     "output_type": "display_data"
    }
   ],
   "source": [
    "plt.figure(figsize=(8,4))\n",
    "sns.histplot(data=approved_client, x=\"POD\", bins=50)\n",
    "plt.show()"
   ]
  },
  {
   "cell_type": "code",
   "execution_count": 16,
   "id": "7e396b1f",
   "metadata": {},
   "outputs": [
    {
     "data": {
      "image/png": "[encoded data removed]",
      "text/plain": [
       "<Figure size 800x500 with 1 Axes>"
      ]
     },
     "metadata": {},
     "output_type": "display_data"
    }
   ],
   "source": [
    "plt.figure(figsize=(8,5))\n",
    "sns.scatterplot(data=approved_client, x=\"Interest Amount\", y=\"Interest Rate\", hue=\"POD\")\n",
    "plt.show()"
   ]
  },
  {
   "cell_type": "markdown",
   "id": "a44c7fdc",
   "metadata": {},
   "source": [
    "## Conclusion of the project:\n",
    "#### We can see from the above histogram that out of the 213 clients whose loans were approved, the majority of the clients fall under the 0-0.26 Probability of default (POD) range confirming that the bank's portfolio of issued credit is relatively low risk since the POD threshold for defaulting is 0.416 as based on our Logistic Regression model.\n",
    "#### We have successfully modelled the probability of a client defaulting on a loan with a test set accuracy of 75%, recall of 80%, and auc_roc of 79%, created a model of risk to the business based on credit amount and POD, and created a portfolio of approved loans that has been optimised for risk at 50,000-60,000 risk units and gains a total interest (profit) of 2,470,175 monetary units."
   ]
  }
 ],
 "metadata": {
  "kernelspec": {
   "display_name": "Python 3 (ipykernel)",
   "language": "python",
   "name": "python3"
  },
  "language_info": {
   "codemirror_mode": {
    "name": "ipython",
    "version": 3
   },
   "file_extension": ".py",
   "mimetype": "text/x-python",
   "name": "python",
   "nbconvert_exporter": "python",
   "pygments_lexer": "ipython3",
   "version": "3.9.13"
  }
 },
 "nbformat": 4,
 "nbformat_minor": 5
}
