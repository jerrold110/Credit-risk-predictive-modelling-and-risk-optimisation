{
 "cells": [
  {
   "cell_type": "code",
   "execution_count": 1,
   "id": "5c666850",
   "metadata": {},
   "outputs": [],
   "source": [
    "import numpy as np"
   ]
  },
  {
   "cell_type": "code",
   "execution_count": 2,
   "id": "b4faf0eb",
   "metadata": {},
   "outputs": [
    {
     "name": "stderr",
     "output_type": "stream",
     "text": [
      "<__array_function__ internals>:200: RuntimeWarning: invalid value encountered in cast\n"
     ]
    }
   ],
   "source": [
    "c = -np.array([0, 1])\n",
    "A = np.array([[-1, 1], [3, 2], [2, 3]])\n",
    "b_u = np.array([1, 12, 12])\n",
    "b_l = np.full_like(b_u, -np.inf)"
   ]
  },
  {
   "cell_type": "code",
   "execution_count": 4,
   "id": "1061bf7e",
   "metadata": {},
   "outputs": [],
   "source": [
    "from scipy.optimize import LinearConstraint\n",
    "constraints = LinearConstraint(A, b_l, b_u)"
   ]
  },
  {
   "cell_type": "code",
   "execution_count": 5,
   "id": "c358d8ca",
   "metadata": {},
   "outputs": [],
   "source": [
    "integrality = np.ones_like(c) #[1,1]"
   ]
  },
  {
   "cell_type": "code",
   "execution_count": 6,
   "id": "ffec8b30",
   "metadata": {},
   "outputs": [
    {
     "data": {
      "text/plain": [
       "array([1., 2.])"
      ]
     },
     "execution_count": 6,
     "metadata": {},
     "output_type": "execute_result"
    }
   ],
   "source": [
    "from scipy.optimize import milp\n",
    "res = milp(c=c, constraints=constraints, integrality=integrality)\n",
    "x = res.x\n",
    "x"
   ]
  },
  {
   "cell_type": "code",
   "execution_count": 7,
   "id": "1cac14c8",
   "metadata": {},
   "outputs": [
    {
     "data": {
      "text/plain": [
       "-2.0"
      ]
     },
     "execution_count": 7,
     "metadata": {},
     "output_type": "execute_result"
    }
   ],
   "source": [
    "# minimize\n",
    "c@x"
   ]
  },
  {
   "cell_type": "code",
   "execution_count": 8,
   "id": "6d09337a",
   "metadata": {},
   "outputs": [
    {
     "data": {
      "text/plain": [
       "array([1., 7., 8.])"
      ]
     },
     "execution_count": 8,
     "metadata": {},
     "output_type": "execute_result"
    }
   ],
   "source": [
    "# between u_b and l_b\n",
    "# x is a vector of decision variables (length 2)\n",
    "A@x"
   ]
  }
 ],
 "metadata": {
  "kernelspec": {
   "display_name": "Python 3 (ipykernel)",
   "language": "python",
   "name": "python3"
  },
  "language_info": {
   "codemirror_mode": {
    "name": "ipython",
    "version": 3
   },
   "file_extension": ".py",
   "mimetype": "text/x-python",
   "name": "python",
   "nbconvert_exporter": "python",
   "pygments_lexer": "ipython3",
   "version": "3.9.13"
  }
 },
 "nbformat": 4,
 "nbformat_minor": 5
}
